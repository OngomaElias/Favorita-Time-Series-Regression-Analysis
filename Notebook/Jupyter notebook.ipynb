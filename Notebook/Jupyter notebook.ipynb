version https://git-lfs.github.com/spec/v1
oid sha256:4579aa28ecc910350c7ccbc2fe601f012702f5b458b0b3664a8562707aa6d234
size 3461109
